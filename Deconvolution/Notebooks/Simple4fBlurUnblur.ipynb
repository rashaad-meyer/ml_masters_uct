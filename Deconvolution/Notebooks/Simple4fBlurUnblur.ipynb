{
 "cells": [
  {
   "cell_type": "code",
   "execution_count": 6,
   "metadata": {},
   "outputs": [],
   "source": [
    "import numpy as np\n",
    "import tensorflow as tf\n",
    "import matplotlib.pyplot as plt"
   ]
  },
  {
   "cell_type": "code",
   "execution_count": 8,
   "metadata": {},
   "outputs": [],
   "source": [
    "path = 'C:/Users/Rashaad/Documents/Postgrad/MastersUCT/Resources/Nicolls/kid.png'\n",
    "img = tf.keras.utils.load_img(path, color_mode='grayscale')\n",
    "x_train = tf.keras.utils.img_to_array(img)\n",
    "x_trian = np.array(x_train)\n",
    "xm = tf.reshape(x_train, (1, 96, 96))"
   ]
  },
  {
   "cell_type": "code",
   "execution_count": 12,
   "metadata": {},
   "outputs": [
    {
     "name": "stdout",
     "output_type": "stream",
     "text": [
      "tf.Tensor(\n",
      "[[1.   0.25]\n",
      " [0.5  0.  ]], shape=(2, 2), dtype=float32)\n"
     ]
    }
   ],
   "source": [
    "kf0 = tf.constant([[1.0, 0.25], [0.5, 0.0]])\n",
    "print(kf0)\n",
    "\n",
    "paddings = tf.constant([[0, xm.shape[-2] - kf0.shape[-2]], [0, xm.shape[-1] - kf0.shape[-1]]])\n",
    "kfp = tf.pad(kf0, paddings, \"CONSTANT\")\n",
    "kfp = tf.cast(kfp, dtype=tf.complex128)\n",
    "kfpf = tf.signal.fft2d(kfp);    \n",
    "kfp2f = tf.roll(tf.reverse(kfpf,[1]), shift=1, axis=1)\n",
    "kfp3f = tf.roll(tf.reverse(kfpf,[0]), shift=1, axis=0)\n",
    "kfp4f = tf.roll(tf.reverse(kfpf,[0,1]), shift=[1,1], axis=[0,1])\n",
    "kfpaf = tf.multiply(kfpf, tf.multiply(kfp2f, tf.multiply(kfp3f, kfp4f)))\n",
    "\n",
    "xmf = tf.signal.fft2d(tf.cast(xm, dtype=tf.complex128));\n",
    "xmbf = tf.multiply(xmf,kfpaf)\n",
    "xmb = tf.signal.ifft2d(xmbf)\n",
    "xmb = tf.cast(tf.math.abs(xmb), dtype=float)\n",
    "ym = xmb"
   ]
  },
  {
   "cell_type": "code",
   "execution_count": 10,
   "metadata": {},
   "outputs": [],
   "source": [
    "from tensorflow import keras\n",
    "from keras import layers\n",
    "\n",
    "\n",
    "\n",
    "@tf.custom_gradient\n",
    "def custom_op(xm, w, h_shape):\n",
    "    paddings = tf.constant([[0, xm.shape[-2] - w.shape[-2]],\n",
    "                            [0, xm.shape[-1] - w.shape[-1]]])\n",
    "    hm1 = tf.pad(w, paddings, \"CONSTANT\")\n",
    "\n",
    "    xm = tf.cast(xm, dtype=tf.complex64)\n",
    "    hm1 = tf.cast(hm1, dtype=tf.complex64)\n",
    "\n",
    "    gm1f = tf.divide(1, tf.signal.fft2d(hm1))\n",
    "    gm2f = tf.roll(tf.reverse(gm1f, [0]), shift=1, axis=0)\n",
    "    gm3f = tf.roll(tf.reverse(gm1f, [1]), shift=1, axis=1)\n",
    "    gm4f = tf.roll(tf.reverse(gm3f, [0]), shift=1, axis=0)\n",
    "\n",
    "    gmf1 = tf.multiply(gm1f, gm2f)\n",
    "    gmf2 = tf.multiply(gm3f, gm4f)\n",
    "    gmf = tf.multiply(gmf1, gmf2)\n",
    "\n",
    "    ymf = tf.multiply(gmf, tf.signal.fft2d(xm))\n",
    "    ym = tf.signal.ifft2d(ymf)\n",
    "    ym = tf.cast(ym, dtype=tf.float32)\n",
    "\n",
    "    def grad_fn(um):\n",
    "        # um = tf.reshape(um, (-1, um.shape[-3], um.shape[-2]))\n",
    "        umi = tf.cast(um, dtype=tf.complex64)\n",
    "\n",
    "        # backprop layer inputs\n",
    "\n",
    "        umf = tf.signal.fft2d(umi)\n",
    "        dldxf = tf.multiply(gmf, umf)\n",
    "        dldx = tf.signal.ifft2d(dldxf)\n",
    "        dldx = tf.cast(dldx, dtype=tf.float32)\n",
    "\n",
    "        hsir_top = tf.zeros((1, h_shape[0] * h_shape[1]), dtype=tf.int32)\n",
    "        hsir_bot = tf.range(0, h_shape[0] * h_shape[1], dtype=tf.int32)\n",
    "        hsir_bot = tf.reshape(hsir_bot, (1, -1))\n",
    "        hsir = tf.concat([hsir_top, hsir_bot], 0)\n",
    "        hsir = hsir[:, 1:]\n",
    "\n",
    "        dldw = tf.zeros((1, hsir.shape[1]))\n",
    "\n",
    "        vm = tf.signal.ifft2d(tf.multiply(gm1f, ymf))\n",
    "        vm = tf.cast(vm, tf.float32)\n",
    "\n",
    "        # g1\n",
    "        hsirf = hsir\n",
    "        for j in range(hsirf.shape[1]):\n",
    "            j_zeros = np.zeros((1, hsirf.shape[1]), dtype=np.float32)\n",
    "            j_zeros[0][j] = 1\n",
    "            vmq = tf.roll(vm, shift=hsirf[1][j], axis=0)\n",
    "            temp = tf.multiply(vmq, um)\n",
    "            temp = tf.multiply(j_zeros, tf.reduce_sum(temp))\n",
    "            dldw = tf.add(dldw, temp)\n",
    "\n",
    "        # g2\n",
    "        hsirf = hsir[:, :]\n",
    "        hsirf = -hsirf\n",
    "\n",
    "        for j in range(hsirf.shape[1]):\n",
    "            j_zeros = np.zeros((1, hsirf.shape[1]), dtype=np.float32)\n",
    "            j_zeros[0][j] = 1\n",
    "            vmq = tf.roll(vm, shift=hsirf[1][j], axis=0)\n",
    "            temp = tf.multiply(vmq, um)\n",
    "            temp = tf.multiply(j_zeros, tf.reduce_sum(temp))\n",
    "            dldw = tf.add(dldw, temp)\n",
    "\n",
    "        # g3\n",
    "        hsirf = hsir\n",
    "        hsirf = -hsirf\n",
    "        for j in range(hsirf.shape[1]):\n",
    "            j_zeros = np.zeros((1, hsirf.shape[1]), dtype=np.float32)\n",
    "            j_zeros[0][j] = 1\n",
    "            vmq = tf.roll(vm, shift=hsirf[1][j], axis=0)\n",
    "            temp = tf.multiply(vmq, um)\n",
    "            temp = tf.multiply(j_zeros, tf.reduce_sum(temp))\n",
    "            dldw = tf.add(dldw, temp)\n",
    "\n",
    "        # g4\n",
    "        hsirf = hsir\n",
    "        hsirf = -hsirf\n",
    "        for j in range(hsirf.shape[1]):\n",
    "            j_zeros = np.zeros((1, hsirf.shape[1]), dtype=np.float32)\n",
    "            j_zeros[0][j] = 1\n",
    "            vmq = tf.roll(vm, shift=hsirf[1][j], axis=0)\n",
    "            temp = tf.multiply(vmq, um)\n",
    "            temp = tf.multiply(j_zeros, tf.reduce_sum(temp))\n",
    "            dldw = tf.add(dldw, temp)\n",
    "\n",
    "        return dldx, dldw, None, None\n",
    "\n",
    "    return ym, grad_fn\n",
    "\n",
    "\n",
    "class DeconvDft2dLayer(layers.Layer):\n",
    "\n",
    "    def __init__(self, h_shape, pad_amount=0.5):\n",
    "        super(DeconvDft2dLayer, self).__init__()\n",
    "        self.w = None\n",
    "        self.h_shape = h_shape\n",
    "        self.pad_amount = pad_amount\n",
    "\n",
    "    def build(self, input_shape):\n",
    "        # Initialise filter (w) except for the first element\n",
    "        # So that first element is not trainable\n",
    "        # Randomly initialise other components and multiply by factor of 1/2*sqrt(no. of pixels)\n",
    "        self.w = tf.random.uniform((1, self.h_shape[-2] * self.h_shape[-1] - 1))\n",
    "        self.w = tf.Variable(self.w, trainable=True)\n",
    "\n",
    "    def call(self, inputs):\n",
    "        inputs = tf.reshape(inputs, (-1, inputs.shape[-3], inputs.shape[-2]))\n",
    "\n",
    "        padding = tf.constant(\n",
    "            [[0, 0], [int(inputs.shape[-2] * self.pad_amount), int(inputs.shape[-2] * self.pad_amount)],\n",
    "             [int(inputs.shape[-1] * self.pad_amount), int(inputs.shape[-1] * self.pad_amount)]])\n",
    "        inputs = tf.pad(inputs, padding, \"CONSTANT\")\n",
    "\n",
    "        ym = custom_op(inputs, self.w, self.h_shape)\n",
    "\n",
    "        ym = tf.reshape(ym, (-1, ym.shape[-2], ym.shape[-1], 1))\n",
    "        ym = tf.image.central_crop(ym, 1 / (1 + 2 * self.pad_amount))\n",
    "        return ym\n"
   ]
  },
  {
   "cell_type": "code",
   "execution_count": 13,
   "metadata": {},
   "outputs": [
    {
     "data": {
      "text/plain": [
       "TensorShape([1, 96, 96])"
      ]
     },
     "execution_count": 13,
     "metadata": {},
     "output_type": "execute_result"
    }
   ],
   "source": [
    "ym.shape"
   ]
  }
 ],
 "metadata": {
  "kernelspec": {
   "display_name": "Python 3.9.13 ('tf')",
   "language": "python",
   "name": "python3"
  },
  "language_info": {
   "codemirror_mode": {
    "name": "ipython",
    "version": 3
   },
   "file_extension": ".py",
   "mimetype": "text/x-python",
   "name": "python",
   "nbconvert_exporter": "python",
   "pygments_lexer": "ipython3",
   "version": "3.9.13"
  },
  "orig_nbformat": 4,
  "vscode": {
   "interpreter": {
    "hash": "f09b4aee08e0b08b49e1275ec474d424159b1793a9d200aa98b0e86ea75e1de2"
   }
  }
 },
 "nbformat": 4,
 "nbformat_minor": 2
}
