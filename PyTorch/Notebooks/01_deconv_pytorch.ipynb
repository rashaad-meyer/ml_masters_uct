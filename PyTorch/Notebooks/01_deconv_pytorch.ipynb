{
  "nbformat": 4,
  "nbformat_minor": 0,
  "metadata": {
    "colab": {
      "provenance": []
    },
    "kernelspec": {
      "name": "python3",
      "display_name": "Python 3"
    },
    "language_info": {
      "name": "python"
    }
  },
  "cells": [
    {
      "cell_type": "code",
      "execution_count": null,
      "metadata": {
        "id": "z9p_6iHmeG3X"
      },
      "outputs": [],
      "source": [
        "import torch\n",
        "import torch.nn as nn\n",
        "import torch.optim as optim\n",
        "from torch.fft import fft2, ifft2\n",
        "import torchvision\n",
        "import torchvision.transforms as T\n",
        "\n",
        "import os\n",
        "\n",
        "import matplotlib.pyplot as plt"
      ]
    },
    {
      "cell_type": "markdown",
      "source": [
        "## Create Deconvolution Layer"
      ],
      "metadata": {
        "id": "LXNWOFteB-ne"
      }
    },
    {
      "cell_type": "code",
      "source": [
        "!rm DeconvModels.py\n",
        "!rm training_functions.py\n",
        "!wget https://raw.githubusercontent.com/viibrem/ml_masters_uct/master/PyTorch/Models/DeconvModels.py -q\n",
        "!wget https://raw.githubusercontent.com/viibrem/ml_masters_uct/master/PyTorch/util/training_functions.py -q\n",
        "from DeconvModels import Deconv2D\n",
        "from training_functions import train_regression_model, train_classification_model"
      ],
      "metadata": {
        "id": "EZg_Dh88eQRW",
        "colab": {
          "base_uri": "https://localhost:8080/"
        },
        "outputId": "1e55e38b-7f61-43fa-b9d2-c3a17d3aa2d9"
      },
      "execution_count": null,
      "outputs": [
        {
          "output_type": "stream",
          "name": "stdout",
          "text": [
            "rm: cannot remove 'DeconvModels.py': No such file or directory\n",
            "rm: cannot remove 'training_functions.py': No such file or directory\n"
          ]
        }
      ]
    },
    {
      "cell_type": "markdown",
      "source": [
        "## Mount my Google Drive"
      ],
      "metadata": {
        "id": "JDcQat34Cn5g"
      }
    },
    {
      "cell_type": "code",
      "source": [
        "from google.colab import drive\n",
        "drive.mount('/content/drive')"
      ],
      "metadata": {
        "colab": {
          "base_uri": "https://localhost:8080/"
        },
        "id": "uM7RhA_WuAyd",
        "outputId": "5b107007-4807-4920-bb6e-d75c1f89d37c"
      },
      "execution_count": null,
      "outputs": [
        {
          "output_type": "stream",
          "name": "stdout",
          "text": [
            "Mounted at /content/drive\n"
          ]
        }
      ]
    },
    {
      "cell_type": "markdown",
      "source": [
        "## Load and preprocess image"
      ],
      "metadata": {
        "id": "-v7LWeEHCENb"
      }
    },
    {
      "cell_type": "code",
      "source": [
        "base_path = 'drive/MyDrive/data/lena/'\n",
        "img = torchvision.io.read_image(base_path+'Lenna.png',\n",
        "                                torchvision.io.ImageReadMode.GRAY)\n",
        "\n",
        "img = T.Resize((48, 48))(img)\n",
        "\n",
        "img = nn.functional.pad(img, (24, 24, 24, 24))\n",
        "img = img / 255.0\n",
        "img.size()"
      ],
      "metadata": {
        "colab": {
          "base_uri": "https://localhost:8080/"
        },
        "id": "QV5C_6tsv1_V",
        "outputId": "5bb919fb-2546-4158-8dfd-96cb5bd8d5c8"
      },
      "execution_count": null,
      "outputs": [
        {
          "output_type": "execute_result",
          "data": {
            "text/plain": [
              "torch.Size([1, 96, 96])"
            ]
          },
          "metadata": {},
          "execution_count": 4
        }
      ]
    },
    {
      "cell_type": "markdown",
      "source": [
        "## Blur the image"
      ],
      "metadata": {
        "id": "1IshAUocCKhk"
      }
    },
    {
      "cell_type": "code",
      "source": [
        "w = torch.FloatTensor([[1, 0.2, 0, 0], [0.2, 0, 0, 0]])\n",
        "\n",
        "# 4 factor blur\n",
        "\n",
        "hm1 = nn.functional.pad(w, (0, img.size(-1)-w.size(-1), 0, img.size(-2)-w.size(-2)))\n",
        "\n",
        "gm1f = fft2(hm1)\n",
        "\n",
        "gm2f = torch.flip(gm1f, (0,))\n",
        "gm2f = torch.roll(gm2f, shifts=1, dims=0)\n",
        "\n",
        "gm3f = torch.flip(gm1f, (1,))\n",
        "gm3f = torch.roll(gm3f, shifts=1, dims=1)\n",
        "\n",
        "gm4f = torch.flip(gm1f, (0, 1))\n",
        "gm4f = torch.roll(gm4f, shifts=(1, 1), dims=(0,1))\n",
        "\n",
        "gmf = gm1f*gm2f*gm3f*gm4f\n",
        "\n",
        "ymf = gmf*fft2(img)\n",
        "\n",
        "X = ifft2(ymf).real"
      ],
      "metadata": {
        "id": "h39mjoy_3iPG"
      },
      "execution_count": null,
      "outputs": []
    },
    {
      "cell_type": "code",
      "source": [
        "plt.subplots(1, 2)\n",
        "\n",
        "plt.subplot(1, 2, 1)\n",
        "plt.imshow(X[0, :, :], cmap='gray')\n",
        "plt.axis('off')\n",
        "plt.title('Blurred')\n",
        "\n",
        "plt.subplot(1, 2, 2)\n",
        "plt.imshow(img[0, :, :], cmap='gray')\n",
        "plt.axis('off')\n",
        "plt.title('Unblurred')\n",
        "\n",
        "plt.show()"
      ],
      "metadata": {
        "colab": {
          "base_uri": "https://localhost:8080/",
          "height": 199
        },
        "id": "Wi5JckdC7F-U",
        "outputId": "9ccb91eb-32f5-439c-9853-61e08023ae55"
      },
      "execution_count": null,
      "outputs": [
        {
          "output_type": "display_data",
          "data": {
            "text/plain": [
              "<Figure size 432x288 with 2 Axes>"
            ],
            "image/png": "[encoded data removed]"
          },
          "metadata": {
            "needs_background": "light"
          }
        }
      ]
    },
    {
      "cell_type": "markdown",
      "source": [
        "## Intialise optimizer and loss function"
      ],
      "metadata": {
        "id": "ARJKHQElDB1E"
      }
    },
    {
      "cell_type": "code",
      "source": [
        "# Initialise variables\n",
        "model = Deconv2D((2, 4))\n",
        "\n",
        "criterion = nn.MSELoss()\n",
        "optimizer = optim.Adam(model.parameters(), lr=1e-2)\n",
        "\n",
        "y = img"
      ],
      "metadata": {
        "id": "QjqZbB1o1LJu"
      },
      "execution_count": null,
      "outputs": []
    },
    {
      "cell_type": "markdown",
      "source": [
        "## Train deconv layer on the image"
      ],
      "metadata": {
        "id": "lTJNgFeJDFpU"
      }
    },
    {
      "cell_type": "code",
      "source": [
        "num_epochs = 2000\n",
        "\n",
        "for epoch in range(num_epochs):\n",
        "    model.train()\n",
        "\n",
        "    with torch.set_grad_enabled(True):\n",
        "        outputs = model(X)\n",
        "        loss = criterion(outputs, y)\n",
        "\n",
        "        optimizer.zero_grad()\n",
        "        loss.backward()\n",
        "        optimizer.step()\n",
        "    if (epoch+1)%50 == 0:\n",
        "        print('Epoch {:04d} loss: {:.4f}'.format(epoch+1, loss))\n",
        "    "
      ],
      "metadata": {
        "id": "dbqEDc-Fzft2",
        "colab": {
          "base_uri": "https://localhost:8080/"
        },
        "outputId": "93768b2f-605b-4f78-d67c-caafe7b1ee64"
      },
      "execution_count": null,
      "outputs": [
        {
          "output_type": "stream",
          "name": "stdout",
          "text": [
            "Epoch 0050 loss: 0.0106\n",
            "Epoch 0100 loss: 0.0017\n",
            "Epoch 0150 loss: 0.0009\n",
            "Epoch 0200 loss: 0.0006\n",
            "Epoch 0250 loss: 0.0004\n",
            "Epoch 0300 loss: 0.0003\n",
            "Epoch 0350 loss: 0.0002\n",
            "Epoch 0400 loss: 0.0002\n",
            "Epoch 0450 loss: 0.0002\n",
            "Epoch 0500 loss: 0.0001\n",
            "Epoch 0550 loss: 0.0001\n",
            "Epoch 0600 loss: 0.0001\n",
            "Epoch 0650 loss: 0.0001\n",
            "Epoch 0700 loss: 0.0001\n",
            "Epoch 0750 loss: 0.0001\n",
            "Epoch 0800 loss: 0.0001\n",
            "Epoch 0850 loss: 0.0001\n",
            "Epoch 0900 loss: 0.0001\n",
            "Epoch 0950 loss: 0.0000\n",
            "Epoch 1000 loss: 0.0000\n",
            "Epoch 1050 loss: 0.0000\n",
            "Epoch 1100 loss: 0.0000\n",
            "Epoch 1150 loss: 0.0000\n",
            "Epoch 1200 loss: 0.0000\n",
            "Epoch 1250 loss: 0.0000\n",
            "Epoch 1300 loss: 0.0000\n",
            "Epoch 1350 loss: 0.0000\n",
            "Epoch 1400 loss: 0.0000\n",
            "Epoch 1450 loss: 0.0000\n",
            "Epoch 1500 loss: 0.0000\n",
            "Epoch 1550 loss: 0.0000\n",
            "Epoch 1600 loss: 0.0000\n",
            "Epoch 1650 loss: 0.0000\n",
            "Epoch 1700 loss: 0.0000\n",
            "Epoch 1750 loss: 0.0000\n",
            "Epoch 1800 loss: 0.0000\n",
            "Epoch 1850 loss: 0.0000\n",
            "Epoch 1900 loss: 0.0000\n",
            "Epoch 1950 loss: 0.0000\n",
            "Epoch 2000 loss: 0.0000\n"
          ]
        }
      ]
    },
    {
      "cell_type": "markdown",
      "source": [
        "## Unblur image using deconv layer"
      ],
      "metadata": {
        "id": "JRmULTsDDN09"
      }
    },
    {
      "cell_type": "code",
      "source": [
        "model.eval()\n",
        "y_pred = model(X)"
      ],
      "metadata": {
        "id": "rySpnzPw_YNJ"
      },
      "execution_count": null,
      "outputs": []
    },
    {
      "cell_type": "markdown",
      "source": [
        "## Plot Original, Blurred, and Deblurred"
      ],
      "metadata": {
        "id": "rYo3QP_5DZLv"
      }
    },
    {
      "cell_type": "code",
      "source": [
        "plt.rcParams['figure.dpi'] = 200\n",
        "plt.figure(figsize=(40, 120))\n",
        "\n",
        "plt.subplots(1, 2)\n",
        "\n",
        "plt.subplot(1, 3, 1)\n",
        "plt.imshow(X[0, 20:76, 20:76], cmap='gray')\n",
        "plt.axis('off')\n",
        "plt.title('Blurred')\n",
        "\n",
        "plt.subplot(1, 3, 2)\n",
        "plt.imshow(y_pred[0, 20:76, 20:76].detach().numpy(), cmap='gray')\n",
        "plt.axis('off')\n",
        "plt.title('Predicted')\n",
        "\n",
        "plt.subplot(1, 3, 3)\n",
        "plt.imshow(img[0, 20:76, 20:76], cmap='gray')\n",
        "plt.axis('off')\n",
        "plt.title('Original')"
      ],
      "metadata": {
        "colab": {
          "base_uri": "https://localhost:8080/",
          "height": 408
        },
        "id": "oJbw5OpM_ix7",
        "outputId": "9f0b209c-e413-4c2f-8fa5-405791c18962"
      },
      "execution_count": null,
      "outputs": [
        {
          "output_type": "execute_result",
          "data": {
            "text/plain": [
              "Text(0.5, 1.0, 'Original')"
            ]
          },
          "metadata": {},
          "execution_count": 10
        },
        {
          "output_type": "display_data",
          "data": {
            "text/plain": [
              "<Figure size 8000x24000 with 0 Axes>"
            ]
          },
          "metadata": {}
        },
        {
          "output_type": "display_data",
          "data": {
            "text/plain": [
              "<Figure size 1200x800 with 3 Axes>"
            ],
            "image/png": "[encoded data removed]"
          },
          "metadata": {
            "needs_background": "light"
          }
        }
      ]
    },
    {
      "cell_type": "markdown",
      "source": [
        "## Deconvolution Kernel"
      ],
      "metadata": {
        "id": "0q437qiuDsW-"
      }
    },
    {
      "cell_type": "code",
      "source": [
        "model.w_flat"
      ],
      "metadata": {
        "colab": {
          "base_uri": "https://localhost:8080/"
        },
        "id": "k6ja9cxsBvXt",
        "outputId": "954508a2-c008-4a49-be9a-8744424a796d"
      },
      "execution_count": null,
      "outputs": [
        {
          "output_type": "execute_result",
          "data": {
            "text/plain": [
              "Parameter containing:\n",
              "tensor([ 0.1882,  0.0057,  0.0054,  0.1986,  0.0153, -0.0073, -0.0059],\n",
              "       requires_grad=True)"
            ]
          },
          "metadata": {},
          "execution_count": 11
        }
      ]
    },
    {
      "cell_type": "code",
      "source": [
        "with torch.set_grad_enabled(False):\n",
        "    w = nn.functional.pad(model.w_flat, (1, 0), value=1)\n",
        "    w = torch.reshape(w, model.h_shape)\n",
        "    print(torch.round(w, decimals=3))"
      ],
      "metadata": {
        "id": "ss_FLog0s0C8",
        "colab": {
          "base_uri": "https://localhost:8080/"
        },
        "outputId": "1f7c09ed-f684-4a6c-ce7b-a09b29e087eb"
      },
      "execution_count": null,
      "outputs": [
        {
          "output_type": "stream",
          "name": "stdout",
          "text": [
            "tensor([[ 1.0000,  0.1880,  0.0060,  0.0050],\n",
            "        [ 0.1990,  0.0150, -0.0070, -0.0060]])\n"
          ]
        }
      ]
    },
    {
      "cell_type": "code",
      "source": [],
      "metadata": {
        "id": "LJZ1djN2Lle2"
      },
      "execution_count": null,
      "outputs": []
    }
  ]
}