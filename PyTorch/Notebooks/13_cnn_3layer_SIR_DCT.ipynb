{
  "cells": [
    {
      "cell_type": "markdown",
      "metadata": {
        "id": "3bmIWVwCfG3K"
      },
      "source": [
        "# Image Super-Resolution Using Deep Convolutional Networks\n",
        "\n",
        "This notebook is based off of [this paper](https://arxiv.org/pdf/1501.00092v3.pdf)"
      ]
    },
    {
      "cell_type": "markdown",
      "metadata": {
        "id": "Dop9Cw8fwkxU"
      },
      "source": [
        "## Standard Copy Pasted code"
      ]
    },
    {
      "cell_type": "code",
      "execution_count": 1,
      "metadata": {
        "id": "6K6sUgNazpU7"
      },
      "outputs": [],
      "source": [
        "import torch\n",
        "import torch.nn as nn\n",
        "import torch.optim as optim\n",
        "from torch.fft import fft2, ifft2\n",
        "import torchvision\n",
        "import torchvision.transforms as T\n",
        "from torchvision import io\n",
        "from torch.utils.data import Dataset, DataLoader\n",
        "\n",
        "import os\n",
        "import matplotlib.pyplot as plt\n",
        "from tqdm.notebook import tqdm\n",
        "import numpy as np\n",
        "\n",
        "device = torch.device(\"cuda:0\" if torch.cuda.is_available() else \"cpu\")"
      ]
    },
    {
      "cell_type": "code",
      "execution_count": 2,
      "metadata": {
        "colab": {
          "base_uri": "https://localhost:8080/"
        },
        "id": "Fa4ZqZ7szq-9",
        "outputId": "434682ce-0690-4375-8428-a5a907cf5e4b"
      },
      "outputs": [
        {
          "output_type": "stream",
          "name": "stdout",
          "text": [
            "rm: cannot remove 'DeconvModels.py': No such file or directory\n",
            "rm: cannot remove 'training_functions.py': No such file or directory\n",
            "rm: cannot remove 'blur_functions.py': No such file or directory\n",
            "rm: cannot remove 'Datasets.py': No such file or directory\n",
            "rm: cannot remove 'data_augmentation.py': No such file or directory\n"
          ]
        }
      ],
      "source": [
        "## Install and import torch metrics\n",
        "# !pip install torchmetrics -q\n",
        "# import torchmetrics\n",
        "\n",
        "!rm DeconvModels.py\n",
        "!rm training_functions.py\n",
        "!rm blur_functions.py\n",
        "!rm Datasets.py\n",
        "!rm data_augmentation.py\n",
        "\n",
        "!wget https://raw.githubusercontent.com/viibrem/ml_masters_uct/master/PyTorch/Models/DeconvModels.py -q\n",
        "!wget https://raw.githubusercontent.com/viibrem/ml_masters_uct/master/PyTorch/Models/LossModules.py -q\n",
        "!wget https://raw.githubusercontent.com/viibrem/ml_masters_uct/master/PyTorch/util/training_functions.py -q\n",
        "!wget https://raw.githubusercontent.com/viibrem/ml_masters_uct/master/PyTorch/util/blur_functions.py -q\n",
        "!wget https://raw.githubusercontent.com/viibrem/ml_masters_uct/master/PyTorch/Datasets/Datasets.py -q\n",
        "!wget https://raw.githubusercontent.com/viibrem/ml_masters_uct/master/PyTorch/util/data_augmentation.py -q\n",
        "\n",
        "from DeconvModels import Deconv2D, Deconv2D\n",
        "from LossModules import DCT\n",
        "from training_functions import train_regression_model, train_classification_model\n",
        "import blur_functions as blur\n",
        "from Datasets import Div2k\n",
        "from data_augmentation import RandomCropIsr"
      ]
    },
    {
      "cell_type": "markdown",
      "metadata": {
        "id": "ag_B8B8Mwpml"
      },
      "source": [
        "# Deconv"
      ]
    },
    {
      "cell_type": "markdown",
      "metadata": {
        "id": "WYt8-qZENEg1"
      },
      "source": [
        "## Download Dataset"
      ]
    },
    {
      "cell_type": "code",
      "execution_count": 3,
      "metadata": {
        "id": "bw4gygWjCl9K"
      },
      "outputs": [],
      "source": [
        "!wget http://data.vision.ee.ethz.ch/cvl/DIV2K/DIV2K_train_HR.zip -q\n",
        "!wget http://data.vision.ee.ethz.ch/cvl/DIV2K/DIV2K_train_LR_bicubic_X2.zip -q\n",
        "!wget http://data.vision.ee.ethz.ch/cvl/DIV2K/DIV2K_train_LR_bicubic_X3.zip -q\n",
        "!wget http://data.vision.ee.ethz.ch/cvl/DIV2K/DIV2K_train_LR_bicubic_X4.zip -q"
      ]
    },
    {
      "cell_type": "code",
      "execution_count": 4,
      "metadata": {
        "id": "d2CzSIOUO98O"
      },
      "outputs": [],
      "source": [
        "import zipfile\n",
        "zip_ref = zipfile.ZipFile('DIV2K_train_HR.zip', \"r\")\n",
        "zip_ref.extractall()\n",
        "zip_ref.close()\n",
        "\n",
        "zip_ref = zipfile.ZipFile('DIV2K_train_LR_bicubic_X2.zip', \"r\")\n",
        "zip_ref.extractall()\n",
        "zip_ref.close()"
      ]
    },
    {
      "cell_type": "code",
      "execution_count": 5,
      "metadata": {
        "colab": {
          "base_uri": "https://localhost:8080/"
        },
        "id": "SjSW-IAFCu-A",
        "outputId": "91bf1698-5646-4599-cd91-1761ae52b9df"
      },
      "outputs": [
        {
          "output_type": "execute_result",
          "data": {
            "text/plain": [
              "(torch.Size([4, 1, 16, 16]), torch.Size([4, 1, 32, 32]))"
            ]
          },
          "metadata": {},
          "execution_count": 5
        }
      ],
      "source": [
        "hr_path = 'DIV2K_train_HR'\n",
        "lr_path = 'DIV2K_train_LR_bicubic/X2'\n",
        "\n",
        "IMG_SIZE = (32, 32)\n",
        "\n",
        "random_crop = RandomCropIsr(IMG_SIZE[0])\n",
        "\n",
        "data = Div2k(lr_path, hr_path, transform=random_crop, ds_length=20)\n",
        "dataloader = DataLoader(data, batch_size=4, shuffle=False)\n",
        "\n",
        "x_batch, y_batch = next(iter(dataloader))\n",
        "\n",
        "x_batch.size(), y_batch.size()"
      ]
    },
    {
      "cell_type": "code",
      "execution_count": 6,
      "metadata": {
        "colab": {
          "base_uri": "https://localhost:8080/",
          "height": 248
        },
        "id": "3BuHPJpgx1p5",
        "outputId": "06aaa8aa-05aa-4d80-8cf7-6de3616f9661"
      },
      "outputs": [
        {
          "output_type": "display_data",
          "data": {
            "text/plain": [
              "<Figure size 432x288 with 2 Axes>"
            ],
            "image/png": "[encoded data removed]"
          },
          "metadata": {
            "needs_background": "light"
          }
        }
      ],
      "source": [
        "plt.subplots(2, 1)\n",
        "\n",
        "plt.subplot(2, 1, 1)\n",
        "plt.imshow(x_batch[0, 0, :, :], cmap='gray')\n",
        "plt.axis('off')\n",
        "\n",
        "\n",
        "plt.subplot(2, 1, 2)\n",
        "plt.imshow(y_batch[0, 0, :, :], cmap='gray')\n",
        "plt.axis('off')\n",
        "plt.show()"
      ]
    },
    {
      "cell_type": "code",
      "execution_count": 7,
      "metadata": {
        "id": "GDvkYPOrLkjP"
      },
      "outputs": [],
      "source": [
        "class SRCNN(nn.Module):\n",
        "    def __init__(self, num_channels=1, upscale_factor=2, deconv=False):\n",
        "        super(SRCNN, self).__init__()\n",
        "        \n",
        "        self.conv2 = nn.Conv2d(64, 32, kernel_size=1, padding=0)\n",
        "        self.conv3 = nn.Conv2d(32, num_channels * (upscale_factor ** 2), kernel_size=5, padding=2)\n",
        "        self.pixel_shuffle = nn.PixelShuffle(upscale_factor)\n",
        "        self.relu = nn.ReLU()\n",
        "        if deconv:\n",
        "            self.conv1 = Deconv2D(1, 64, (9, 9))\n",
        "        else:\n",
        "            self.conv1 = nn.Conv2d(num_channels, 64, kernel_size=9, padding=4)\n",
        "\n",
        "    def forward(self, x):\n",
        "        x = self.relu(self.conv1(x))\n",
        "        x = self.relu(self.conv2(x))\n",
        "        x = self.conv3(x)\n",
        "        x = self.pixel_shuffle(x)\n",
        "        return x\n",
        "\n",
        "class MSE_with_DCT(nn.Module):\n",
        "    def __init__(self, img_size=(96, 96)):\n",
        "        super(MSE_with_DCT, self).__init__()\n",
        "        self.mse = nn.MSELoss()\n",
        "        self.dct = DCT(img_size)\n",
        "\n",
        "    def forward(self, x, y):\n",
        "        x = self.dct(x)\n",
        "        y = self.dct(y)\n",
        "        loss = self.mse(x, y)\n",
        "        return loss"
      ]
    },
    {
      "cell_type": "code",
      "execution_count": 8,
      "metadata": {
        "id": "EQGU9jgD_sHF"
      },
      "outputs": [],
      "source": [
        "channels = x_batch.size(1)\n",
        "srcnn = SRCNN(channels)\n",
        "\n",
        "criterion = MSE_with_DCT(img_size=IMG_SIZE)\n",
        "criterion = criterion.to(device)\n",
        "\n",
        "optimizer = optim.Adam(srcnn.parameters(), lr=1e-4)"
      ]
    },
    {
      "cell_type": "code",
      "source": [
        "resize = T.Resize(IMG_SIZE)\n",
        "\n",
        "x_batch, y_batch = next(iter(dataloader))\n",
        "x_batch = resize(x_batch)\n",
        "x_batch = x_batch.to(device)\n",
        "y_batch = y_batch.to(device)\n",
        "\n",
        "loss = criterion(x_batch, y_batch)\n",
        "loss.item()"
      ],
      "metadata": {
        "colab": {
          "base_uri": "https://localhost:8080/"
        },
        "id": "bPpv0bD06MHe",
        "outputId": "2919ddb4-9f3c-461a-c43d-8846fddd1aec"
      },
      "execution_count": 9,
      "outputs": [
        {
          "output_type": "execute_result",
          "data": {
            "text/plain": [
              "0.0007671862258575857"
            ]
          },
          "metadata": {},
          "execution_count": 9
        }
      ]
    },
    {
      "cell_type": "code",
      "source": [
        "param = next(criterion.parameters())\n",
        "print(param)\n",
        "print(param.device)"
      ],
      "metadata": {
        "colab": {
          "base_uri": "https://localhost:8080/"
        },
        "id": "-4qaSdel7T1e",
        "outputId": "e1d98360-accc-43ae-ea76-19ec35583655"
      },
      "execution_count": 10,
      "outputs": [
        {
          "output_type": "stream",
          "name": "stdout",
          "text": [
            "Parameter containing:\n",
            "tensor([[0.1768, 0.1768, 0.1768,  ..., 0.1768, 0.1768, 0.1768],\n",
            "        [0.2500, 0.2500, 0.2500,  ..., 0.2500, 0.2500, 0.2500],\n",
            "        [0.2500, 0.2500, 0.2500,  ..., 0.2500, 0.2500, 0.2500],\n",
            "        ...,\n",
            "        [0.2500, 0.2500, 0.2500,  ..., 0.2500, 0.2500, 0.2500],\n",
            "        [0.2500, 0.2500, 0.2500,  ..., 0.2500, 0.2500, 0.2500],\n",
            "        [0.2500, 0.2500, 0.2500,  ..., 0.2500, 0.2500, 0.2500]],\n",
            "       device='cuda:0')\n",
            "cuda:0\n"
          ]
        }
      ]
    },
    {
      "cell_type": "code",
      "execution_count": 11,
      "metadata": {
        "colab": {
          "base_uri": "https://localhost:8080/"
        },
        "id": "Ly5a91Az7zOw",
        "outputId": "de6745b8-b202-4bab-e2ba-deda1c1f1bb3"
      },
      "outputs": [
        {
          "output_type": "stream",
          "name": "stdout",
          "text": [
            "Epoch 0001 loss: 1.03158\n",
            "Epoch 0002 loss: 1.55335\n",
            "Epoch 0003 loss: 0.97214\n",
            "Epoch 0004 loss: 0.66857\n",
            "Epoch 0005 loss: 0.52692\n",
            "Epoch 0006 loss: 0.76794\n",
            "Epoch 0007 loss: 0.91751\n",
            "Epoch 0008 loss: 0.50235\n",
            "Epoch 0009 loss: 0.48733\n",
            "Epoch 0010 loss: 0.26108\n",
            "Epoch 0011 loss: 0.15836\n",
            "Epoch 0012 loss: 0.19805\n",
            "Epoch 0013 loss: 0.15553\n",
            "Epoch 0014 loss: 0.18750\n",
            "Epoch 0015 loss: 0.17174\n",
            "Epoch 0016 loss: 0.16022\n",
            "Epoch 0017 loss: 0.16236\n",
            "Epoch 0018 loss: 0.17867\n",
            "Epoch 0019 loss: 0.19746\n",
            "Epoch 0020 loss: 0.13733\n",
            "Epoch 0021 loss: 0.15044\n",
            "Epoch 0022 loss: 0.11851\n",
            "Epoch 0023 loss: 0.14256\n",
            "Epoch 0024 loss: 0.12898\n",
            "Epoch 0025 loss: 0.15665\n",
            "Epoch 0026 loss: 0.14974\n",
            "Epoch 0027 loss: 0.14324\n",
            "Epoch 0028 loss: 0.13214\n",
            "Epoch 0029 loss: 0.14185\n",
            "Epoch 0030 loss: 0.10984\n"
          ]
        }
      ],
      "source": [
        "history, _ = train_regression_model(srcnn, criterion, optimizer, dataloader, num_epochs=30)"
      ]
    },
    {
      "cell_type": "code",
      "execution_count": 12,
      "metadata": {
        "colab": {
          "base_uri": "https://localhost:8080/",
          "height": 390
        },
        "id": "aj-0g4na73jo",
        "outputId": "f94ea49c-5186-4164-91a4-51dd4dfbced6"
      },
      "outputs": [
        {
          "output_type": "execute_result",
          "data": {
            "text/plain": [
              "Text(0.5, 1.0, 'Original')"
            ]
          },
          "metadata": {},
          "execution_count": 12
        },
        {
          "output_type": "display_data",
          "data": {
            "text/plain": [
              "<Figure size 1200x800 with 3 Axes>"
            ],
            "image/png": "[encoded data removed]"
          },
          "metadata": {
            "needs_background": "light"
          }
        }
      ],
      "source": [
        "srcnn = srcnn.to(\"cpu\")\n",
        "srcnn.eval()\n",
        "X, y = next(iter(dataloader))\n",
        "\n",
        "y_pred = srcnn(X)\n",
        "\n",
        "import random\n",
        "\n",
        "plt.rcParams['figure.dpi'] = 200\n",
        "# plt.figure(figsize=(40, 120))\n",
        "\n",
        "i = random.randint(0, len(X)-1)\n",
        "\n",
        "start = X.size(-1)//4\n",
        "end = 3*start\n",
        "\n",
        "plt.subplots(1, 3)\n",
        "\n",
        "plt.subplot(1, 3, 1)\n",
        "plt.imshow(X[i,:,:,:].permute(1, 2, 0), cmap='gray')\n",
        "plt.axis('off')\n",
        "plt.title('Blurred')\n",
        "\n",
        "plt.subplot(1, 3, 2)\n",
        "plt.imshow(y_pred[i,:,:,:].permute(1, 2, 0).detach().numpy(), cmap='gray')\n",
        "plt.axis('off')\n",
        "plt.title('Predicted')\n",
        "\n",
        "plt.subplot(1, 3, 3)\n",
        "plt.imshow(y[i,:,:,:].permute(1, 2, 0), cmap='gray')\n",
        "plt.axis('off')\n",
        "plt.title('Original')"
      ]
    },
    {
      "cell_type": "code",
      "execution_count": 13,
      "metadata": {
        "id": "xyjR3PoTFEg4"
      },
      "outputs": [],
      "source": [
        "model_deconv = SRCNN(deconv=True)\n",
        "\n",
        "\n",
        "criterion = MSE_with_DCT(img_size=IMG_SIZE)\n",
        "criterion = criterion.to(device)\n",
        "optimizer = optim.Adam(model_deconv.parameters(), lr=1e-3)"
      ]
    },
    {
      "cell_type": "code",
      "execution_count": 14,
      "metadata": {
        "colab": {
          "base_uri": "https://localhost:8080/"
        },
        "id": "1NZ5OZQUFIqX",
        "outputId": "64062c8d-d9e7-46ed-f364-29df63af4c6d"
      },
      "outputs": [
        {
          "output_type": "stream",
          "name": "stdout",
          "text": [
            "Epoch 0001 loss: 1.30294\n",
            "Epoch 0002 loss: 0.96801\n",
            "Epoch 0003 loss: 0.24571\n",
            "Epoch 0004 loss: 0.18791\n",
            "Epoch 0005 loss: 0.14244\n",
            "Epoch 0006 loss: 0.14463\n",
            "Epoch 0007 loss: 0.15356\n",
            "Epoch 0008 loss: 0.14466\n",
            "Epoch 0009 loss: 0.09448\n",
            "Epoch 0010 loss: 0.07780\n",
            "Epoch 0011 loss: 0.09154\n",
            "Epoch 0012 loss: 0.08172\n",
            "Epoch 0013 loss: 0.07313\n",
            "Epoch 0014 loss: 0.05153\n",
            "Epoch 0015 loss: 0.05703\n",
            "Epoch 0016 loss: 0.05805\n",
            "Epoch 0017 loss: 0.03814\n",
            "Epoch 0018 loss: 0.03893\n",
            "Epoch 0019 loss: 0.02792\n",
            "Epoch 0020 loss: 0.02620\n",
            "Epoch 0021 loss: 0.01691\n",
            "Epoch 0022 loss: 0.01176\n",
            "Epoch 0023 loss: 0.01647\n",
            "Epoch 0024 loss: 0.01614\n",
            "Epoch 0025 loss: 0.01720\n",
            "Epoch 0026 loss: 0.00955\n",
            "Epoch 0027 loss: 0.01558\n",
            "Epoch 0028 loss: 0.01133\n",
            "Epoch 0029 loss: 0.01063\n",
            "Epoch 0030 loss: 0.01673\n"
          ]
        }
      ],
      "source": [
        "history, _ = train_regression_model(model_deconv, criterion, optimizer, dataloader, num_epochs=30)"
      ]
    },
    {
      "cell_type": "code",
      "execution_count": 18,
      "metadata": {
        "colab": {
          "base_uri": "https://localhost:8080/",
          "height": 390
        },
        "id": "BzLsQ2o0nlhi",
        "outputId": "acd5570b-7831-4749-d79c-a676b5504af2"
      },
      "outputs": [
        {
          "output_type": "execute_result",
          "data": {
            "text/plain": [
              "Text(0.5, 1.0, 'Original')"
            ]
          },
          "metadata": {},
          "execution_count": 18
        },
        {
          "output_type": "display_data",
          "data": {
            "text/plain": [
              "<Figure size 1200x800 with 3 Axes>"
            ],
            "image/png": "[encoded data removed]"
          },
          "metadata": {
            "needs_background": "light"
          }
        }
      ],
      "source": [
        "model_deconv = model_deconv.to(\"cpu\")\n",
        "model_deconv.eval()\n",
        "X, y = next(iter(dataloader))\n",
        "\n",
        "y_pred = model_deconv(X)\n",
        "\n",
        "import random\n",
        "\n",
        "plt.rcParams['figure.dpi'] = 200\n",
        "# plt.figure(figsize=(40, 120))\n",
        "\n",
        "i = random.randint(0, len(X)-1)\n",
        "\n",
        "start = X.size(-1)//4\n",
        "end = 3*start\n",
        "\n",
        "plt.subplots(1, 3)\n",
        "\n",
        "plt.subplot(1, 3, 1)\n",
        "plt.imshow(X[i,:,:,:].permute(1, 2, 0), cmap='gray')\n",
        "plt.axis('off')\n",
        "plt.title('Blurred')\n",
        "\n",
        "plt.subplot(1, 3, 2)\n",
        "plt.imshow(y_pred[i,:,:,:].permute(1, 2, 0).detach().numpy(), cmap='gray')\n",
        "plt.axis('off')\n",
        "plt.title('Predicted')\n",
        "\n",
        "plt.subplot(1, 3, 3)\n",
        "plt.imshow(y[i,:,:,:].permute(1, 2, 0), cmap='gray')\n",
        "plt.axis('off')\n",
        "plt.title('Original')"
      ]
    },
    {
      "cell_type": "code",
      "execution_count": 16,
      "metadata": {
        "colab": {
          "base_uri": "https://localhost:8080/"
        },
        "id": "UuD8gEEmZaNN",
        "outputId": "f11ab84f-2b73-40b6-da75-5c288d72c19c"
      },
      "outputs": [
        {
          "output_type": "stream",
          "name": "stdout",
          "text": [
            "Deconv2D()\n",
            "Conv2d(1, 64, kernel_size=(9, 9), stride=(1, 1), padding=(4, 4))\n"
          ]
        }
      ],
      "source": [
        "print(model_deconv.conv1)\n",
        "print(srcnn.conv1)"
      ]
    },
    {
      "cell_type": "code",
      "execution_count": 19,
      "metadata": {
        "id": "L5Sxeauu3Z1O",
        "colab": {
          "base_uri": "https://localhost:8080/",
          "height": 720
        },
        "outputId": "0352aa00-8ec4-4018-c420-0c6f92b5bb7f"
      },
      "outputs": [
        {
          "output_type": "execute_result",
          "data": {
            "text/plain": [
              "Text(0.5, 1.0, 'Predicted SRCNN')"
            ]
          },
          "metadata": {},
          "execution_count": 19
        },
        {
          "output_type": "display_data",
          "data": {
            "text/plain": [
              "<Figure size 1200x800 with 4 Axes>"
            ],
            "image/png": "[encoded data removed]"
          },
          "metadata": {
            "needs_background": "light"
          }
        }
      ],
      "source": [
        "model_deconv = model_deconv.to(\"cpu\")\n",
        "model_deconv.eval()\n",
        "X, y = next(iter(dataloader))\n",
        "\n",
        "y_pred_deconv = model_deconv(X)\n",
        "y_pred_srcnn = srcnn(X)\n",
        "\n",
        "import random\n",
        "\n",
        "plt.rcParams['figure.dpi'] = 200\n",
        "# plt.figure(figsize=(40, 120))\n",
        "\n",
        "i = random.randint(0, len(X)-1)\n",
        "\n",
        "start = X.size(-1)//4\n",
        "end = 3*start\n",
        "\n",
        "plt.subplots(2, 2)\n",
        "\n",
        "plt.subplot(2, 2, 1)\n",
        "plt.imshow(X[i,:,:,:].permute(1, 2, 0), cmap='gray')\n",
        "plt.axis('off')\n",
        "plt.title('Blurred')\n",
        "\n",
        "plt.subplot(2, 2, 2)\n",
        "plt.imshow(y[i,:,:,:].permute(1, 2, 0), cmap='gray')\n",
        "plt.axis('off')\n",
        "plt.title('Original')\n",
        "\n",
        "plt.subplot(2, 2, 3)\n",
        "plt.imshow(y_pred_deconv[i,:,:,:].permute(1, 2, 0).detach().numpy(), cmap='gray')\n",
        "plt.axis('off')\n",
        "plt.title('Predicted Deconv')\n",
        "\n",
        "plt.subplot(2, 2, 4)\n",
        "plt.imshow(y_pred_srcnn[i,0,:,:].detach().numpy(), cmap='gray')\n",
        "plt.axis('off')\n",
        "plt.title('Predicted SRCNN')\n",
        "\n"
      ]
    }
  ],
  "metadata": {
    "accelerator": "GPU",
    "colab": {
      "provenance": []
    },
    "gpuClass": "standard",
    "kernelspec": {
      "display_name": "Python 3",
      "name": "python3"
    },
    "language_info": {
      "name": "python"
    }
  },
  "nbformat": 4,
  "nbformat_minor": 0
}